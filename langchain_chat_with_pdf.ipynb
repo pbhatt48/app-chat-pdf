{
  "nbformat": 4,
  "nbformat_minor": 0,
  "metadata": {
    "colab": {
      "provenance": [],
      "authorship_tag": "ABX9TyO6qFnuacYbLeZ9x3sERPTQ"
    },
    "kernelspec": {
      "name": "python3",
      "display_name": "Python 3"
    },
    "language_info": {
      "name": "python"
    }
  },
  "cells": [
    {
      "cell_type": "code",
      "execution_count": 2,
      "metadata": {
        "colab": {
          "base_uri": "https://localhost:8080/"
        },
        "id": "1oE6wpCwTV0U",
        "outputId": "2109ba3f-8177-4c70-cb0a-6860042deb3a"
      },
      "outputs": [
        {
          "output_type": "stream",
          "name": "stdout",
          "text": [
            "Collecting langchain\n",
            "  Downloading langchain-0.0.276-py3-none-any.whl (1.6 MB)\n",
            "\u001b[2K     \u001b[90m━━━━━━━━━━━━━━━━━━━━━━━━━━━━━━━━━━━━━━━━\u001b[0m \u001b[32m1.6/1.6 MB\u001b[0m \u001b[31m9.2 MB/s\u001b[0m eta \u001b[36m0:00:00\u001b[0m\n",
            "\u001b[?25hRequirement already satisfied: PyYAML>=5.3 in /usr/local/lib/python3.10/dist-packages (from langchain) (6.0.1)\n",
            "Requirement already satisfied: SQLAlchemy<3,>=1.4 in /usr/local/lib/python3.10/dist-packages (from langchain) (2.0.20)\n",
            "Requirement already satisfied: aiohttp<4.0.0,>=3.8.3 in /usr/local/lib/python3.10/dist-packages (from langchain) (3.8.5)\n",
            "Requirement already satisfied: async-timeout<5.0.0,>=4.0.0 in /usr/local/lib/python3.10/dist-packages (from langchain) (4.0.3)\n",
            "Collecting dataclasses-json<0.6.0,>=0.5.7 (from langchain)\n",
            "  Downloading dataclasses_json-0.5.14-py3-none-any.whl (26 kB)\n",
            "Collecting langsmith<0.1.0,>=0.0.21 (from langchain)\n",
            "  Downloading langsmith-0.0.27-py3-none-any.whl (34 kB)\n",
            "Requirement already satisfied: numexpr<3.0.0,>=2.8.4 in /usr/local/lib/python3.10/dist-packages (from langchain) (2.8.5)\n",
            "Requirement already satisfied: numpy<2,>=1 in /usr/local/lib/python3.10/dist-packages (from langchain) (1.23.5)\n",
            "Requirement already satisfied: pydantic<3,>=1 in /usr/local/lib/python3.10/dist-packages (from langchain) (2.2.1)\n",
            "Requirement already satisfied: requests<3,>=2 in /usr/local/lib/python3.10/dist-packages (from langchain) (2.31.0)\n",
            "Requirement already satisfied: tenacity<9.0.0,>=8.1.0 in /usr/local/lib/python3.10/dist-packages (from langchain) (8.2.3)\n",
            "Requirement already satisfied: attrs>=17.3.0 in /usr/local/lib/python3.10/dist-packages (from aiohttp<4.0.0,>=3.8.3->langchain) (23.1.0)\n",
            "Requirement already satisfied: charset-normalizer<4.0,>=2.0 in /usr/local/lib/python3.10/dist-packages (from aiohttp<4.0.0,>=3.8.3->langchain) (3.2.0)\n",
            "Requirement already satisfied: multidict<7.0,>=4.5 in /usr/local/lib/python3.10/dist-packages (from aiohttp<4.0.0,>=3.8.3->langchain) (6.0.4)\n",
            "Requirement already satisfied: yarl<2.0,>=1.0 in /usr/local/lib/python3.10/dist-packages (from aiohttp<4.0.0,>=3.8.3->langchain) (1.9.2)\n",
            "Requirement already satisfied: frozenlist>=1.1.1 in /usr/local/lib/python3.10/dist-packages (from aiohttp<4.0.0,>=3.8.3->langchain) (1.4.0)\n",
            "Requirement already satisfied: aiosignal>=1.1.2 in /usr/local/lib/python3.10/dist-packages (from aiohttp<4.0.0,>=3.8.3->langchain) (1.3.1)\n",
            "Collecting marshmallow<4.0.0,>=3.18.0 (from dataclasses-json<0.6.0,>=0.5.7->langchain)\n",
            "  Downloading marshmallow-3.20.1-py3-none-any.whl (49 kB)\n",
            "\u001b[2K     \u001b[90m━━━━━━━━━━━━━━━━━━━━━━━━━━━━━━━━━━━━━━━━\u001b[0m \u001b[32m49.4/49.4 kB\u001b[0m \u001b[31m6.0 MB/s\u001b[0m eta \u001b[36m0:00:00\u001b[0m\n",
            "\u001b[?25hCollecting typing-inspect<1,>=0.4.0 (from dataclasses-json<0.6.0,>=0.5.7->langchain)\n",
            "  Downloading typing_inspect-0.9.0-py3-none-any.whl (8.8 kB)\n",
            "Requirement already satisfied: annotated-types>=0.4.0 in /usr/local/lib/python3.10/dist-packages (from pydantic<3,>=1->langchain) (0.5.0)\n",
            "Requirement already satisfied: pydantic-core==2.6.1 in /usr/local/lib/python3.10/dist-packages (from pydantic<3,>=1->langchain) (2.6.1)\n",
            "Requirement already satisfied: typing-extensions>=4.6.1 in /usr/local/lib/python3.10/dist-packages (from pydantic<3,>=1->langchain) (4.7.1)\n",
            "Requirement already satisfied: idna<4,>=2.5 in /usr/local/lib/python3.10/dist-packages (from requests<3,>=2->langchain) (3.4)\n",
            "Requirement already satisfied: urllib3<3,>=1.21.1 in /usr/local/lib/python3.10/dist-packages (from requests<3,>=2->langchain) (2.0.4)\n",
            "Requirement already satisfied: certifi>=2017.4.17 in /usr/local/lib/python3.10/dist-packages (from requests<3,>=2->langchain) (2023.7.22)\n",
            "Requirement already satisfied: greenlet!=0.4.17 in /usr/local/lib/python3.10/dist-packages (from SQLAlchemy<3,>=1.4->langchain) (2.0.2)\n",
            "Requirement already satisfied: packaging>=17.0 in /usr/local/lib/python3.10/dist-packages (from marshmallow<4.0.0,>=3.18.0->dataclasses-json<0.6.0,>=0.5.7->langchain) (23.1)\n",
            "Collecting mypy-extensions>=0.3.0 (from typing-inspect<1,>=0.4.0->dataclasses-json<0.6.0,>=0.5.7->langchain)\n",
            "  Downloading mypy_extensions-1.0.0-py3-none-any.whl (4.7 kB)\n",
            "Installing collected packages: mypy-extensions, marshmallow, typing-inspect, langsmith, dataclasses-json, langchain\n",
            "Successfully installed dataclasses-json-0.5.14 langchain-0.0.276 langsmith-0.0.27 marshmallow-3.20.1 mypy-extensions-1.0.0 typing-inspect-0.9.0\n",
            "Collecting openai\n",
            "  Downloading openai-0.27.9-py3-none-any.whl (75 kB)\n",
            "\u001b[2K     \u001b[90m━━━━━━━━━━━━━━━━━━━━━━━━━━━━━━━━━━━━━━━━\u001b[0m \u001b[32m75.5/75.5 kB\u001b[0m \u001b[31m2.3 MB/s\u001b[0m eta \u001b[36m0:00:00\u001b[0m\n",
            "\u001b[?25hRequirement already satisfied: requests>=2.20 in /usr/local/lib/python3.10/dist-packages (from openai) (2.31.0)\n",
            "Requirement already satisfied: tqdm in /usr/local/lib/python3.10/dist-packages (from openai) (4.66.1)\n",
            "Requirement already satisfied: aiohttp in /usr/local/lib/python3.10/dist-packages (from openai) (3.8.5)\n",
            "Requirement already satisfied: charset-normalizer<4,>=2 in /usr/local/lib/python3.10/dist-packages (from requests>=2.20->openai) (3.2.0)\n",
            "Requirement already satisfied: idna<4,>=2.5 in /usr/local/lib/python3.10/dist-packages (from requests>=2.20->openai) (3.4)\n",
            "Requirement already satisfied: urllib3<3,>=1.21.1 in /usr/local/lib/python3.10/dist-packages (from requests>=2.20->openai) (2.0.4)\n",
            "Requirement already satisfied: certifi>=2017.4.17 in /usr/local/lib/python3.10/dist-packages (from requests>=2.20->openai) (2023.7.22)\n",
            "Requirement already satisfied: attrs>=17.3.0 in /usr/local/lib/python3.10/dist-packages (from aiohttp->openai) (23.1.0)\n",
            "Requirement already satisfied: multidict<7.0,>=4.5 in /usr/local/lib/python3.10/dist-packages (from aiohttp->openai) (6.0.4)\n",
            "Requirement already satisfied: async-timeout<5.0,>=4.0.0a3 in /usr/local/lib/python3.10/dist-packages (from aiohttp->openai) (4.0.3)\n",
            "Requirement already satisfied: yarl<2.0,>=1.0 in /usr/local/lib/python3.10/dist-packages (from aiohttp->openai) (1.9.2)\n",
            "Requirement already satisfied: frozenlist>=1.1.1 in /usr/local/lib/python3.10/dist-packages (from aiohttp->openai) (1.4.0)\n",
            "Requirement already satisfied: aiosignal>=1.1.2 in /usr/local/lib/python3.10/dist-packages (from aiohttp->openai) (1.3.1)\n",
            "Installing collected packages: openai\n",
            "Successfully installed openai-0.27.9\n",
            "Collecting pyPDF2\n",
            "  Downloading pypdf2-3.0.1-py3-none-any.whl (232 kB)\n",
            "\u001b[2K     \u001b[90m━━━━━━━━━━━━━━━━━━━━━━━━━━━━━━━━━━━━━━━\u001b[0m \u001b[32m232.6/232.6 kB\u001b[0m \u001b[31m3.3 MB/s\u001b[0m eta \u001b[36m0:00:00\u001b[0m\n",
            "\u001b[?25hInstalling collected packages: pyPDF2\n",
            "Successfully installed pyPDF2-3.0.1\n",
            "Collecting faiss-cpu\n",
            "  Downloading faiss_cpu-1.7.4-cp310-cp310-manylinux_2_17_x86_64.manylinux2014_x86_64.whl (17.6 MB)\n",
            "\u001b[2K     \u001b[90m━━━━━━━━━━━━━━━━━━━━━━━━━━━━━━━━━━━━━━━━\u001b[0m \u001b[32m17.6/17.6 MB\u001b[0m \u001b[31m50.8 MB/s\u001b[0m eta \u001b[36m0:00:00\u001b[0m\n",
            "\u001b[?25hInstalling collected packages: faiss-cpu\n",
            "Successfully installed faiss-cpu-1.7.4\n",
            "Collecting tiktoken\n",
            "  Downloading tiktoken-0.4.0-cp310-cp310-manylinux_2_17_x86_64.manylinux2014_x86_64.whl (1.7 MB)\n",
            "\u001b[2K     \u001b[90m━━━━━━━━━━━━━━━━━━━━━━━━━━━━━━━━━━━━━━━━\u001b[0m \u001b[32m1.7/1.7 MB\u001b[0m \u001b[31m5.5 MB/s\u001b[0m eta \u001b[36m0:00:00\u001b[0m\n",
            "\u001b[?25hRequirement already satisfied: regex>=2022.1.18 in /usr/local/lib/python3.10/dist-packages (from tiktoken) (2023.6.3)\n",
            "Requirement already satisfied: requests>=2.26.0 in /usr/local/lib/python3.10/dist-packages (from tiktoken) (2.31.0)\n",
            "Requirement already satisfied: charset-normalizer<4,>=2 in /usr/local/lib/python3.10/dist-packages (from requests>=2.26.0->tiktoken) (3.2.0)\n",
            "Requirement already satisfied: idna<4,>=2.5 in /usr/local/lib/python3.10/dist-packages (from requests>=2.26.0->tiktoken) (3.4)\n",
            "Requirement already satisfied: urllib3<3,>=1.21.1 in /usr/local/lib/python3.10/dist-packages (from requests>=2.26.0->tiktoken) (2.0.4)\n",
            "Requirement already satisfied: certifi>=2017.4.17 in /usr/local/lib/python3.10/dist-packages (from requests>=2.26.0->tiktoken) (2023.7.22)\n",
            "Installing collected packages: tiktoken\n",
            "Successfully installed tiktoken-0.4.0\n"
          ]
        }
      ],
      "source": [
        "!pip install langchain\n",
        "!pip install openai\n",
        "!pip install pyPDF2\n",
        "!pip install faiss-cpu\n",
        "!pip install tiktoken\n"
      ]
    },
    {
      "cell_type": "code",
      "source": [
        "## importing all the libraries\n",
        "from PyPDF2 import PdfReader\n",
        "from langchain.embeddings.openai import OpenAIEmbeddings\n",
        "from langchain.text_splitter import CharacterTextSplitter\n",
        "from langchain.vectorstores import ElasticVectorSearch, Pinecone, Weaviate, FAISS\n",
        "import os\n"
      ],
      "metadata": {
        "id": "X3SdS608TkrT"
      },
      "execution_count": 3,
      "outputs": []
    },
    {
      "cell_type": "code",
      "source": [
        "os.environ[\"OPENAI_API_KEY\"] = ''\n"
      ],
      "metadata": {
        "id": "vZalP0wcUw0u"
      },
      "execution_count": 4,
      "outputs": []
    },
    {
      "cell_type": "code",
      "source": [
        "## Extracting text from PDF\n",
        "reader = PdfReader(\"/content/wb-axp1.pdf\")"
      ],
      "metadata": {
        "id": "jUaVc3qGU6IU"
      },
      "execution_count": 6,
      "outputs": []
    },
    {
      "cell_type": "code",
      "source": [
        "raw_text = \"\"\n",
        "for i, page in enumerate(reader.pages):\n",
        "  text = page.extract_text()\n",
        "  if text:\n",
        "    raw_text += text\n",
        "raw_text"
      ],
      "metadata": {
        "colab": {
          "base_uri": "https://localhost:8080/",
          "height": 1000
        },
        "id": "NMbyNIlvVVcl",
        "outputId": "250aba83-6b7e-4459-fc74-b5938ffd6f7c"
      },
      "execution_count": 7,
      "outputs": [
        {
          "output_type": "execute_result",
          "data": {
            "text/plain": [
              "'1964: AMERICAN EXPRESS\\u2003/three.taboldstyle/five.taboldstyle\\nFigure 4.1.was committing fraud. Allied went bankrupt, and the warehouse, when collecting the collateral, realized that the tanks that it had thought were /f_illed with valuable salad oil were instead /f_illed with seawater. With an estimated liability of up to /dollar.oldstyle/one.oldstyle/five.oldstyle/zero.oldstyle million, Allied and the American Express subsidiary /f_iled for bankruptcy protection. Whether American Express, the parent company, was liable was uncertain. Nevertheless, fearing damage to American Express’s reputation, CEO and President Howard Clark issued a statement that American Express felt morally bound to see that such liabili-ties were satis/f_ied./one.oldstyle/T_he word on the street was that American Express could face insol-vency. Its stock, which had been trading at /dollar.oldstyle/six.oldstyle/zero.oldstyle per share before the news, dropped to /dollar.oldstyle/three.oldstyle/five.oldstyle per share by early /one.oldstyle/nine.oldstyle/six.oldstyle/four.oldstyle amid much bad publicity./two.oldstyle One com-ment o/f_ten made about American Express was that it faced “unknown and potentially enormous liabilities. ” In addition to the bad publicity, American Express shareholders sued Howard Clark when he oﬀered the creditors /dollar.oldstyle/six.oldstyle/zero.oldstyle million to settle claims, which the shareholders judged to be an unneces-sary ful/f_illment of a moral obligation. In comparison to the book value of American Express at the time, which was /dollar.oldstyle/seven.oldstyle/eight.oldstyle million, this seemed like a very large sum.According to Lowenstein’s account, Buﬀett, sensing potential opportu-nity beneath the scandal, carefully began his primary research. He spoke to customers and vendors in Omaha, including restaurants and restau-rant customers, to see if their using habits had changed. He also went to banks and travel agencies, and he even spoke to competitors. Everywhere he went, the conclusion he drew was that the use of American Express travelers cheques and credit cards seemed to be steady despite the scan-dal. He surmised that American Express would continue operating as is,  /three.taboldstyle/six.taboldstyle  THE PARTNERSHIP YEARS (1957–1968)that reputational damage was not likely to be permanent, and that the brand seemed very strong and synonymous with the product. He also concluded that the company was unlikely to go insolvent./three.oldstyleIt is important to look at how an investor may have pictured Ameri-can Express at the time. (See tables /four.oldstyle./one.oldstyle through /four.oldstyle./three.oldstyle for a reproduction of several key pages of the /one.oldstyle/nine.oldstyle/six.oldstyle/three.oldstyle American Express annual report, including the consolidated /f_inancial statements./four.oldstyle) As we can see, in the section titled  the Ten Year Financial Summary, on pages four and /f_ive of the report, American Express publishes a full ten-year history of its income /f_inancials. We notice immediately how strong a business American Express was in the decade preceding /one.oldstyle/nine.oldstyle/six.oldstyle/three.oldstyle.From /one.oldstyle/nine.oldstyle/five.oldstyle/four.oldstyle to /one.oldstyle/nine.oldstyle/six.oldstyle/three.oldstyle, American Express’s revenues grew from /dollar.oldstyle/three.oldstyle/seven.oldstyle million to /dollar.oldstyle/one.oldstyle/zero.oldstyle/zero.oldstyle million. Even more impressive, in no single year during this period did revenues decline from the previous year. /T_he picture for income per share and total book value of the company mirrored that of the revenues; income per share grew from /dollar.oldstyle/one.oldstyle./zero.oldstyle/five.oldstyle to /dollar.oldstyle/two.oldstyle./five.oldstyle/two.oldstyle, and book value increased from /dollar.oldstyle/four.oldstyle/two.oldstyle million to /dollar.oldstyle/seven.oldstyle/nine.oldstyle million. Hence on a per annum (p.a.) compounded basis, revenues increased /one.oldstyle/two.oldstyle percent p.a., and net earnings increased /one.oldstyle/zero.oldstyle percent p.a. in the previous nine years.During the year ending December /three.oldstyle/one.oldstyle, /one.oldstyle/nine.oldstyle/six.oldstyle/three.oldstyle, American Express deliv-ered net earnings of exactly /dollar.oldstyle/one.oldstyle/one.oldstyle./two.oldstyle million (/dollar.oldstyle/two.oldstyle./five.oldstyle/two.oldstyle per share for each of the /four.oldstyle./four.oldstyle/six.oldstyle million shares outstanding) on revenues of /dollar.oldstyle/one.oldstyle/zero.oldstyle/zero.oldstyle./four.oldstyle million. /T_he pro/f_it before tax (it reported “income before United States and foreign income taxes”) was at /dollar.oldstyle/one.oldstyle/six.oldstyle./zero.oldstyle million. With a simple calculation, this translates to an operating margin of about /one.oldstyle/six.oldstyle percent and a net pro/f_it margin of about /one.oldstyle/one.oldstyle percent, both metrics, suggesting nice pro/f_itability.At /f_irst glance, based on just the /f_inancial numbers, American Express looked like it was running well on all cylinders and had been doing so for quite some time. To really understand a business, however, and to deter-mine whether it is truly a quality business, one must look at more than just /f_inancials. To understand American Express’s business and how it delivered such good /f_inancial results year a/f_ter year, it is important to analyze the operating segments of the company and the competitive environment in which these sub-businesses were operating.In its /one.oldstyle/nine.oldstyle/six.oldstyle/three.oldstyle annual report, American Express discusses its operating segments in a fair level of detail. In total, the report details ten separate businesses. Unfortunately, American Express at the time did not break down the size and margins of each business areas. Still, from the order and depth of the discussion, one can clearly infer which businesses are the core 1964: AMERICAN EXPRESS\\u2003/three.taboldstyle/seven.taboldstylebusinesses, and which the secondary businesses. From largest to smallest in scale, the businesses included travelers cheques, money orders, utility bills, travel, credit cards, commercial banking, foreign remittances, freight, Wells Fargo, Hertz, and warehousing.Before I discuss the workings of the major businesses, it should be noted that with ten separate operating segments, American Express was not a simple business in the traditional sense of one business involved in  one clear activity. Nevertheless, if we anlayze each business individually, we can be reassured that an inquisitive investor should understand both busi-nesses because they are based on business models and people rather than complex technology.The largest business, which is also discussed first in the report, was the travelers cheque business. American Express sold paper checks that customers who are to travel abroad could purchase at numerous locations before departure, and which would subsequently be accepted at both venues and banks abroad. These venues and banks would then exchange these checks for foreign currency. American Express col-lected cash and a small fee from customers, while in turn providing them with a network of international banks and venues where their finances would be accepted without question. To encourage more international merchants to accept this product, American Express paid a small commission to the merchants for accepting their travel-ers cheques.At the time, the main alternative to American Express travelers cheques was a letter of credit from a bank. A customer, the same inter-national traveler for example, would go to a bank and, using a combina-tion of deposits, collateral, or previous relationship, would ask the bank to issue a letter of credit. /T_he customer would then present this letter of credit to a foreign bank, which would either provide the customer with foreign currency or otherwise enable the customer to make payments while abroad./T_he travelers cheque has several key advantages over the letter of credit. First, while travelers cheques were very simple to purchase at any American Express aﬃliate, the process of getting a letter of credit depended on the spe-ci/f_ic issuing bank and usually involved signi/f_icant paperwork and took sev-eral days. Because it was less complex, American Express’s solution usually also entailed fewer transaction costs. Compared to cash, travelers cheques could be easily replaced when stolen and hence oﬀered an additional protec-tion for travelers.'"
            ],
            "application/vnd.google.colaboratory.intrinsic+json": {
              "type": "string"
            }
          },
          "metadata": {},
          "execution_count": 7
        }
      ]
    },
    {
      "cell_type": "code",
      "source": [
        "##Split the text into smaller number of chunks\n",
        "textsplitter = CharacterTextSplitter(\n",
        "    separator='\\n',\n",
        "    chunk_size=1000,\n",
        "    chunk_overlap=200,\n",
        "    length_function=len\n",
        ")"
      ],
      "metadata": {
        "id": "0Jwyt2VQVmah"
      },
      "execution_count": 8,
      "outputs": []
    },
    {
      "cell_type": "code",
      "source": [
        "texts = textsplitter.split_text(raw_text)\n",
        "len(texts)"
      ],
      "metadata": {
        "colab": {
          "base_uri": "https://localhost:8080/"
        },
        "id": "Yh8nBW7LWRQl",
        "outputId": "56e377ef-9f76-4a3c-90ae-d0f2d08d4b93"
      },
      "execution_count": 9,
      "outputs": [
        {
          "output_type": "execute_result",
          "data": {
            "text/plain": [
              "2"
            ]
          },
          "metadata": {},
          "execution_count": 9
        }
      ]
    },
    {
      "cell_type": "code",
      "source": [
        "#User embeddings from OPENAI\n",
        "embeddings = OpenAIEmbeddings()\n",
        "docsearch = FAISS.from_texts(texts, embeddings)"
      ],
      "metadata": {
        "id": "nRAbIl73WgJ4"
      },
      "execution_count": 12,
      "outputs": []
    },
    {
      "cell_type": "code",
      "source": [
        "from langchain.chains.question_answering import load_qa_chain\n",
        "from langchain.llms import OpenAI\n",
        "chain = load_qa_chain(OpenAI(), chain_type='stuff')"
      ],
      "metadata": {
        "id": "JDzb4KUiXUlR"
      },
      "execution_count": 13,
      "outputs": []
    },
    {
      "cell_type": "code",
      "source": [
        "query=\"What was the scandal of American Express in 1964?\"\n",
        "docs = docsearch.similarity_search(query)\n",
        "chain.run(input_documents=docs, question=query)"
      ],
      "metadata": {
        "colab": {
          "base_uri": "https://localhost:8080/",
          "height": 105
        },
        "id": "aAH-iiOEYF2Y",
        "outputId": "df5004ea-52cd-4f98-cf8e-d9dd70d56b06"
      },
      "execution_count": 14,
      "outputs": [
        {
          "output_type": "execute_result",
          "data": {
            "text/plain": [
              "\" The scandal of American Express in 1964 was related to fraudulent activity in its subsidiary Allied Crude Vegetable Oil. Allied had taken out a loan with American Express and had used tanks of salad oil as collateral; however, the warehouse collecting the collateral found that the tanks were actually filled with seawater. This led to Allied and the American Express subsidiary filing for bankruptcy protection and fear of damage to American Express's reputation.\""
            ],
            "application/vnd.google.colaboratory.intrinsic+json": {
              "type": "string"
            }
          },
          "metadata": {},
          "execution_count": 14
        }
      ]
    },
    {
      "cell_type": "code",
      "source": [
        "query=\"What was the main business of American Express that was important and profitable at the time?\"\n",
        "docs = docsearch.similarity_search(query)\n",
        "chain.run(input_documents=docs, question=query)"
      ],
      "metadata": {
        "colab": {
          "base_uri": "https://localhost:8080/",
          "height": 53
        },
        "id": "bmJ19x4XYgoL",
        "outputId": "e56725ff-5043-43bf-ed6d-717768c48d96"
      },
      "execution_count": 15,
      "outputs": [
        {
          "output_type": "execute_result",
          "data": {
            "text/plain": [
              "' The main business of American Express that was important and profitable at the time was travelers cheques.'"
            ],
            "application/vnd.google.colaboratory.intrinsic+json": {
              "type": "string"
            }
          },
          "metadata": {},
          "execution_count": 15
        }
      ]
    },
    {
      "cell_type": "code",
      "source": [
        "query=\"Write a summary of this chapter in 100 words.\"\n",
        "docs = docsearch.similarity_search(query)\n",
        "chain.run(input_documents=docs, question=query)"
      ],
      "metadata": {
        "colab": {
          "base_uri": "https://localhost:8080/",
          "height": 174
        },
        "id": "jl1KNMLCY3uA",
        "outputId": "e662d855-eebc-4d5e-a369-5c9e19bcdc6b"
      },
      "execution_count": 16,
      "outputs": [
        {
          "output_type": "execute_result",
          "data": {
            "text/plain": [
              "\" This chapter is about American Express' financial situation in 1964. It discusses the company's ten operating segments, the largest of which was the travelers cheques business. This business allowed customers to purchase paper checks at numerous locations before departure and have them accepted at banks and venues abroad. American Express' financials were very strong in the decade before 1964 and the company had delivered net earnings of $1.12 million on revenues of $1 billion that year. The company had an operating margin of 6% and a net profit margin of 1%, both suggesting good profitability. The chapter also explores the advantages of the travelers cheques business over the letter of credit and suggests that the company was well-run and that reputational damage from the fraud scandal was not likely to be permanent.\""
            ],
            "application/vnd.google.colaboratory.intrinsic+json": {
              "type": "string"
            }
          },
          "metadata": {},
          "execution_count": 16
        }
      ]
    },
    {
      "cell_type": "code",
      "source": [],
      "metadata": {
        "id": "bLY3V06iZdhS"
      },
      "execution_count": null,
      "outputs": []
    }
  ]
}